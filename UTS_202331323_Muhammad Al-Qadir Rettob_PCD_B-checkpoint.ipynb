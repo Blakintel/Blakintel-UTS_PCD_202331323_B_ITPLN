{
 "cells": [
  {
   "cell_type": "code",
   "execution_count": 1,
   "id": "5b006f47-000f-46c0-86b3-1f863de335f7",
   "metadata": {},
   "outputs": [
    {
     "ename": "error",
     "evalue": "OpenCV(4.11.0) D:\\a\\opencv-python\\opencv-python\\opencv\\modules\\imgproc\\src\\color.cpp:199: error: (-215:Assertion failed) !_src.empty() in function 'cv::cvtColor'\n",
     "output_type": "error",
     "traceback": [
      "\u001b[1;31m---------------------------------------------------------------------------\u001b[0m",
      "\u001b[1;31merror\u001b[0m                                     Traceback (most recent call last)",
      "Cell \u001b[1;32mIn[1], line 7\u001b[0m\n\u001b[0;32m      5\u001b[0m \u001b[38;5;66;03m# Baca gambar\u001b[39;00m\n\u001b[0;32m      6\u001b[0m image \u001b[38;5;241m=\u001b[39m cv2\u001b[38;5;241m.\u001b[39mimread(\u001b[38;5;124m'\u001b[39m\u001b[38;5;124mNamaWarna.jpg\u001b[39m\u001b[38;5;124m'\u001b[39m)  \u001b[38;5;66;03m# Ganti dengan nama file kamu\u001b[39;00m\n\u001b[1;32m----> 7\u001b[0m image_rgb \u001b[38;5;241m=\u001b[39m cv2\u001b[38;5;241m.\u001b[39mcvtColor(image, cv2\u001b[38;5;241m.\u001b[39mCOLOR_BGR2RGB)\n\u001b[0;32m      9\u001b[0m \u001b[38;5;66;03m# Konversi ke HSV\u001b[39;00m\n\u001b[0;32m     10\u001b[0m hsv \u001b[38;5;241m=\u001b[39m cv2\u001b[38;5;241m.\u001b[39mcvtColor(image, cv2\u001b[38;5;241m.\u001b[39mCOLOR_BGR2HSV)\n",
      "\u001b[1;31merror\u001b[0m: OpenCV(4.11.0) D:\\a\\opencv-python\\opencv-python\\opencv\\modules\\imgproc\\src\\color.cpp:199: error: (-215:Assertion failed) !_src.empty() in function 'cv::cvtColor'\n"
     ]
    }
   ],
   "source": [
    "import cv2\n",
    "import numpy as np\n",
    "from matplotlib import pyplot as plt\n",
    "\n",
    "# Baca gambar\n",
    "image = cv2.imread('NamaWarna.jpeg')  # Ganti dengan nama file kamu\n",
    "image_rgb = cv2.cvtColor(image, cv2.COLOR_BGR2RGB)\n",
    "\n",
    "# Konversi ke HSV\n",
    "hsv = cv2.cvtColor(image, cv2.COLOR_BGR2HSV)\n",
    "\n",
    "# Rentang warna\n",
    "# Merah (terbagi dua rentang di HSV)\n",
    "lower_red1 = np.array([0, 100, 100])\n",
    "upper_red1 = np.array([10, 255, 255])\n",
    "lower_red2 = np.array([160, 100, 100])\n",
    "upper_red2 = np.array([180, 255, 255])\n",
    "\n",
    "# Hijau\n",
    "lower_green = np.array([40, 40, 40])\n",
    "upper_green = np.array([70, 255, 255])\n",
    "\n",
    "# Biru\n",
    "lower_blue = np.array([100, 100, 100])\n",
    "upper_blue = np.array([130, 255, 255])\n",
    "\n",
    "# Masking\n",
    "mask_red1 = cv2.inRange(hsv, lower_red1, upper_red1)\n",
    "mask_red2 = cv2.inRange(hsv, lower_red2, upper_red2)\n",
    "mask_red = cv2.bitwise_or(mask_red1, mask_red2)\n",
    "mask_green = cv2.inRange(hsv, lower_green, upper_green)\n",
    "mask_blue = cv2.inRange(hsv, lower_blue, upper_blue)\n",
    "\n",
    "# Hasil deteksi\n",
    "result_red = cv2.bitwise_and(image_rgb, image_rgb, mask=mask_red)\n",
    "result_green = cv2.bitwise_and(image_rgb, image_rgb, mask=mask_green)\n",
    "result_blue = cv2.bitwise_and(image_rgb, image_rgb, mask=mask_blue)\n",
    "\n",
    "# Tampilkan\n",
    "titles = ['Original', 'Red', 'Green', 'Blue']\n",
    "images = [image_rgb, result_red, result_green, result_blue]\n",
    "\n",
    "for i in range(4):\n",
    "    plt.subplot(2, 2, i+1)\n",
    "    plt.imshow(images[i])\n",
    "    plt.title(titles[i])\n",
    "    plt.axis('off')\n",
    "\n",
    "plt.tight_layout()\n",
    "plt.show()\n"
   ]
  },
  {
   "cell_type": "code",
   "execution_count": null,
   "id": "adabb9ba-d286-4001-8450-bf761b38a96a",
   "metadata": {},
   "outputs": [],
   "source": []
  }
 ],
 "metadata": {
  "kernelspec": {
   "display_name": "Python [conda env:base] *",
   "language": "python",
   "name": "conda-base-py"
  },
  "language_info": {
   "codemirror_mode": {
    "name": "ipython",
    "version": 3
   },
   "file_extension": ".py",
   "mimetype": "text/x-python",
   "name": "python",
   "nbconvert_exporter": "python",
   "pygments_lexer": "ipython3",
   "version": "3.12.7"
  }
 },
 "nbformat": 4,
 "nbformat_minor": 5
}
